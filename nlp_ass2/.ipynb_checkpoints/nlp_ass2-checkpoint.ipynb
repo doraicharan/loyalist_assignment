{
 "cells": [
  {
   "cell_type": "code",
   "execution_count": 1,
   "id": "0e39fdea-ea48-43fd-a517-65272cb395c7",
   "metadata": {},
   "outputs": [],
   "source": [
    "import nltk\n",
    "import pandas as pd\n",
    "import re\n",
    "import string"
   ]
  },
  {
   "cell_type": "markdown",
   "id": "0014139a-a0e7-4747-be11-d02596106ceb",
   "metadata": {},
   "source": [
    "## 1. Read your data"
   ]
  },
  {
   "cell_type": "markdown",
   "id": "086f9787-a05f-4183-a0df-1b6e1bcb5224",
   "metadata": {},
   "source": [
    "### 1a."
   ]
  },
  {
   "cell_type": "code",
   "execution_count": 2,
   "id": "7a57b79e-a369-454f-87bc-b65d3d987502",
   "metadata": {},
   "outputs": [],
   "source": [
    "dataset = pd.read_csv('Youtube05-Shakira.csv')"
   ]
  },
  {
   "cell_type": "markdown",
   "id": "1b0d1f20-b06a-4247-a26a-ff9f5f021507",
   "metadata": {},
   "source": [
    "### 1b."
   ]
  },
  {
   "cell_type": "code",
   "execution_count": 3,
   "id": "00d5e267-5aec-4072-a428-c54f362148d4",
   "metadata": {},
   "outputs": [
    {
     "name": "stdout",
     "output_type": "stream",
     "text": [
      "<class 'pandas.core.frame.DataFrame'>\n",
      "RangeIndex: 370 entries, 0 to 369\n",
      "Data columns (total 5 columns):\n",
      " #   Column      Non-Null Count  Dtype \n",
      "---  ------      --------------  ----- \n",
      " 0   COMMENT_ID  370 non-null    object\n",
      " 1   AUTHOR      370 non-null    object\n",
      " 2   DATE        370 non-null    object\n",
      " 3   CONTENT     370 non-null    object\n",
      " 4   CLASS       370 non-null    int64 \n",
      "dtypes: int64(1), object(4)\n",
      "memory usage: 14.6+ KB\n"
     ]
    }
   ],
   "source": [
    "dataset.info()"
   ]
  },
  {
   "cell_type": "code",
   "execution_count": 4,
   "id": "ee82961e-1b70-497e-80b4-77db449353a3",
   "metadata": {},
   "outputs": [
    {
     "data": {
      "text/plain": [
       "(370, 5)"
      ]
     },
     "execution_count": 4,
     "metadata": {},
     "output_type": "execute_result"
    }
   ],
   "source": [
    "dataset.shape"
   ]
  },
  {
   "cell_type": "code",
   "execution_count": 5,
   "id": "82b9ba37-545a-4b18-9c13-66baa10de44f",
   "metadata": {},
   "outputs": [
    {
     "data": {
      "text/html": [
       "<div>\n",
       "<style scoped>\n",
       "    .dataframe tbody tr th:only-of-type {\n",
       "        vertical-align: middle;\n",
       "    }\n",
       "\n",
       "    .dataframe tbody tr th {\n",
       "        vertical-align: top;\n",
       "    }\n",
       "\n",
       "    .dataframe thead th {\n",
       "        text-align: right;\n",
       "    }\n",
       "</style>\n",
       "<table border=\"1\" class=\"dataframe\">\n",
       "  <thead>\n",
       "    <tr style=\"text-align: right;\">\n",
       "      <th></th>\n",
       "      <th>COMMENT_ID</th>\n",
       "      <th>AUTHOR</th>\n",
       "      <th>DATE</th>\n",
       "      <th>CONTENT</th>\n",
       "      <th>CLASS</th>\n",
       "    </tr>\n",
       "  </thead>\n",
       "  <tbody>\n",
       "    <tr>\n",
       "      <th>0</th>\n",
       "      <td>z13lgffb5w3ddx1ul22qy1wxspy5cpkz504</td>\n",
       "      <td>dharma pal</td>\n",
       "      <td>2015-05-29T02:30:18.971000</td>\n",
       "      <td>Nice song﻿</td>\n",
       "      <td>0</td>\n",
       "    </tr>\n",
       "    <tr>\n",
       "      <th>1</th>\n",
       "      <td>z123dbgb0mqjfxbtz22ucjc5jvzcv3ykj</td>\n",
       "      <td>Tiza Arellano</td>\n",
       "      <td>2015-05-29T00:14:48.748000</td>\n",
       "      <td>I love song ﻿</td>\n",
       "      <td>0</td>\n",
       "    </tr>\n",
       "    <tr>\n",
       "      <th>2</th>\n",
       "      <td>z12quxxp2vutflkxv04cihggzt2azl34pms0k</td>\n",
       "      <td>Prìñçeśś Âliś Łøvê Dømíñø Mâđiś™ ﻿</td>\n",
       "      <td>2015-05-28T21:00:08.607000</td>\n",
       "      <td>I love song ﻿</td>\n",
       "      <td>0</td>\n",
       "    </tr>\n",
       "  </tbody>\n",
       "</table>\n",
       "</div>"
      ],
      "text/plain": [
       "                              COMMENT_ID                              AUTHOR  \\\n",
       "0    z13lgffb5w3ddx1ul22qy1wxspy5cpkz504                          dharma pal   \n",
       "1      z123dbgb0mqjfxbtz22ucjc5jvzcv3ykj                       Tiza Arellano   \n",
       "2  z12quxxp2vutflkxv04cihggzt2azl34pms0k  Prìñçeśś Âliś Łøvê Dømíñø Mâđiś™ ﻿   \n",
       "\n",
       "                         DATE        CONTENT  CLASS  \n",
       "0  2015-05-29T02:30:18.971000     Nice song﻿      0  \n",
       "1  2015-05-29T00:14:48.748000  I love song ﻿      0  \n",
       "2  2015-05-28T21:00:08.607000  I love song ﻿      0  "
      ]
     },
     "execution_count": 5,
     "metadata": {},
     "output_type": "execute_result"
    }
   ],
   "source": [
    "dataset.head(3)"
   ]
  },
  {
   "cell_type": "markdown",
   "id": "6a689d42-8d59-4d77-af09-dfb83d076935",
   "metadata": {},
   "source": [
    "### Using only one column 'CONTENT' for the dataset"
   ]
  },
  {
   "cell_type": "code",
   "execution_count": 6,
   "id": "daea1327-e329-474d-bbf6-c42e493b23cd",
   "metadata": {},
   "outputs": [],
   "source": [
    "dataset = dataset.CONTENT"
   ]
  },
  {
   "cell_type": "markdown",
   "id": "1fdfc77c-5dab-495b-aef4-0843a2a76c02",
   "metadata": {},
   "source": [
    "### 1c."
   ]
  },
  {
   "cell_type": "code",
   "execution_count": 7,
   "id": "ffd2037a-f053-4118-ae45-997a0423d503",
   "metadata": {},
   "outputs": [
    {
     "data": {
      "text/plain": [
       "0"
      ]
     },
     "execution_count": 7,
     "metadata": {},
     "output_type": "execute_result"
    }
   ],
   "source": [
    "dataset.isnull().sum()"
   ]
  },
  {
   "cell_type": "code",
   "execution_count": 8,
   "id": "1343ca3d-5d59-4eba-812a-5509c07fc519",
   "metadata": {},
   "outputs": [
    {
     "data": {
      "text/plain": [
       "0                                           Nice song﻿\n",
       "1                                        I love song ﻿\n",
       "2                                        I love song ﻿\n",
       "3    860,000,000 lets make it first female to reach...\n",
       "4                        shakira is best for worldcup﻿\n",
       "Name: CONTENT, dtype: object"
      ]
     },
     "execution_count": 8,
     "metadata": {},
     "output_type": "execute_result"
    }
   ],
   "source": [
    "dataset.head(5)"
   ]
  },
  {
   "cell_type": "markdown",
   "id": "f12c2c7b-fee3-4df5-8ae2-6fce42d14459",
   "metadata": {},
   "source": [
    "---"
   ]
  },
  {
   "cell_type": "markdown",
   "id": "c2dacac6-f79a-4ece-aab7-ba58c55f3e40",
   "metadata": {},
   "source": [
    "## 2. Remove Punctuatuions"
   ]
  },
  {
   "cell_type": "markdown",
   "id": "ef450bbc-4740-4537-ba5c-418379fbe5f3",
   "metadata": {},
   "source": [
    "### 2a."
   ]
  },
  {
   "cell_type": "code",
   "execution_count": 9,
   "id": "289ae35e-bd29-4c6b-9ca0-14ebe74dbf07",
   "metadata": {},
   "outputs": [],
   "source": [
    "def remove_punctuatuion(comment):\n",
    "    return re.sub(r'[^\\w\\s]', '', comment)"
   ]
  },
  {
   "cell_type": "code",
   "execution_count": 10,
   "id": "4f5dee0c-8d5e-42be-ab0c-b87c16ddab83",
   "metadata": {},
   "outputs": [],
   "source": [
    "no_punct = pd.Series(dataset.map(lambda x:remove_punctuatuion(x)), name=\"punct_text\")"
   ]
  },
  {
   "cell_type": "code",
   "execution_count": 11,
   "id": "f2250419-9a33-43eb-932e-3a9381b94dbd",
   "metadata": {},
   "outputs": [
    {
     "data": {
      "text/plain": [
       "0                                            Nice song\n",
       "1                                         I love song \n",
       "2                                         I love song \n",
       "3    860000000 lets make it first female to reach o...\n",
       "4                         shakira is best for worldcup\n",
       "Name: punct_text, dtype: object"
      ]
     },
     "execution_count": 11,
     "metadata": {},
     "output_type": "execute_result"
    }
   ],
   "source": [
    "no_punct.head()"
   ]
  },
  {
   "cell_type": "code",
   "execution_count": 12,
   "id": "b764d6f0-a121-4178-946d-223993607388",
   "metadata": {},
   "outputs": [],
   "source": [
    "dataset = pd.concat([dataset, no_punct], axis=1)"
   ]
  },
  {
   "cell_type": "markdown",
   "id": "e4c4e99f-663c-4158-9ce6-fe65b7b79b47",
   "metadata": {},
   "source": [
    "### 2b."
   ]
  },
  {
   "cell_type": "code",
   "execution_count": 13,
   "id": "8e0d085c-d2d5-463a-9be8-cea4325717bd",
   "metadata": {},
   "outputs": [
    {
     "data": {
      "text/html": [
       "<div>\n",
       "<style scoped>\n",
       "    .dataframe tbody tr th:only-of-type {\n",
       "        vertical-align: middle;\n",
       "    }\n",
       "\n",
       "    .dataframe tbody tr th {\n",
       "        vertical-align: top;\n",
       "    }\n",
       "\n",
       "    .dataframe thead th {\n",
       "        text-align: right;\n",
       "    }\n",
       "</style>\n",
       "<table border=\"1\" class=\"dataframe\">\n",
       "  <thead>\n",
       "    <tr style=\"text-align: right;\">\n",
       "      <th></th>\n",
       "      <th>CONTENT</th>\n",
       "      <th>punct_text</th>\n",
       "    </tr>\n",
       "  </thead>\n",
       "  <tbody>\n",
       "    <tr>\n",
       "      <th>0</th>\n",
       "      <td>Nice song﻿</td>\n",
       "      <td>Nice song</td>\n",
       "    </tr>\n",
       "    <tr>\n",
       "      <th>1</th>\n",
       "      <td>I love song ﻿</td>\n",
       "      <td>I love song</td>\n",
       "    </tr>\n",
       "    <tr>\n",
       "      <th>2</th>\n",
       "      <td>I love song ﻿</td>\n",
       "      <td>I love song</td>\n",
       "    </tr>\n",
       "    <tr>\n",
       "      <th>3</th>\n",
       "      <td>860,000,000 lets make it first female to reach...</td>\n",
       "      <td>860000000 lets make it first female to reach o...</td>\n",
       "    </tr>\n",
       "    <tr>\n",
       "      <th>4</th>\n",
       "      <td>shakira is best for worldcup﻿</td>\n",
       "      <td>shakira is best for worldcup</td>\n",
       "    </tr>\n",
       "    <tr>\n",
       "      <th>5</th>\n",
       "      <td>The best world cup song ever!!!!﻿</td>\n",
       "      <td>The best world cup song ever</td>\n",
       "    </tr>\n",
       "    <tr>\n",
       "      <th>6</th>\n",
       "      <td>I love﻿</td>\n",
       "      <td>I love</td>\n",
       "    </tr>\n",
       "    <tr>\n",
       "      <th>7</th>\n",
       "      <td>SEE SOME MORE SONG OPEN GOOGLE AND TYPE Shakir...</td>\n",
       "      <td>SEE SOME MORE SONG OPEN GOOGLE AND TYPE Shakir...</td>\n",
       "    </tr>\n",
       "    <tr>\n",
       "      <th>8</th>\n",
       "      <td>Awesome ﻿</td>\n",
       "      <td>Awesome</td>\n",
       "    </tr>\n",
       "    <tr>\n",
       "      <th>9</th>\n",
       "      <td>I like shakira..﻿</td>\n",
       "      <td>I like shakira</td>\n",
       "    </tr>\n",
       "  </tbody>\n",
       "</table>\n",
       "</div>"
      ],
      "text/plain": [
       "                                             CONTENT  \\\n",
       "0                                         Nice song﻿   \n",
       "1                                      I love song ﻿   \n",
       "2                                      I love song ﻿   \n",
       "3  860,000,000 lets make it first female to reach...   \n",
       "4                      shakira is best for worldcup﻿   \n",
       "5                  The best world cup song ever!!!!﻿   \n",
       "6                                            I love﻿   \n",
       "7  SEE SOME MORE SONG OPEN GOOGLE AND TYPE Shakir...   \n",
       "8                                          Awesome ﻿   \n",
       "9                                  I like shakira..﻿   \n",
       "\n",
       "                                          punct_text  \n",
       "0                                          Nice song  \n",
       "1                                       I love song   \n",
       "2                                       I love song   \n",
       "3  860000000 lets make it first female to reach o...  \n",
       "4                       shakira is best for worldcup  \n",
       "5                       The best world cup song ever  \n",
       "6                                             I love  \n",
       "7  SEE SOME MORE SONG OPEN GOOGLE AND TYPE Shakir...  \n",
       "8                                           Awesome   \n",
       "9                                     I like shakira  "
      ]
     },
     "execution_count": 13,
     "metadata": {},
     "output_type": "execute_result"
    }
   ],
   "source": [
    "dataset.head(10)"
   ]
  },
  {
   "cell_type": "markdown",
   "id": "9829aae5-bc8f-49b0-a37d-37bb27ea96ab",
   "metadata": {},
   "source": [
    "---"
   ]
  },
  {
   "cell_type": "markdown",
   "id": "8662cb51-c777-4679-8abe-f2ce55ace97c",
   "metadata": {},
   "source": [
    "## 3. Tokenization"
   ]
  },
  {
   "cell_type": "markdown",
   "id": "5c0df7f8-52ea-44f4-a012-c99360579dc3",
   "metadata": {},
   "source": [
    "### 3a., 3c."
   ]
  },
  {
   "cell_type": "code",
   "execution_count": 14,
   "id": "091c5501-719a-4df3-a27c-7189987ea0b6",
   "metadata": {},
   "outputs": [],
   "source": [
    "from nltk.tokenize import word_tokenize"
   ]
  },
  {
   "cell_type": "code",
   "execution_count": 16,
   "id": "96c99355-d423-4608-a7ad-ef6a81b20843",
   "metadata": {},
   "outputs": [],
   "source": [
    "token_text = pd.Series(dataset['punct_text'].map(lambda x:word_tokenize(x.lower())), name=\"token_text\")"
   ]
  },
  {
   "cell_type": "code",
   "execution_count": 17,
   "id": "39699d66-1e30-42d1-8ea9-42ed5925fbc5",
   "metadata": {},
   "outputs": [],
   "source": [
    "dataset = pd.concat([dataset, token_text], axis=1)"
   ]
  },
  {
   "cell_type": "markdown",
   "id": "61ced366-b55e-468e-926b-1fdc1274fb63",
   "metadata": {},
   "source": [
    "### 3b."
   ]
  },
  {
   "cell_type": "code",
   "execution_count": 18,
   "id": "6f914554-8df8-4cb9-a853-3626d7362736",
   "metadata": {},
   "outputs": [
    {
     "data": {
      "text/html": [
       "<div>\n",
       "<style scoped>\n",
       "    .dataframe tbody tr th:only-of-type {\n",
       "        vertical-align: middle;\n",
       "    }\n",
       "\n",
       "    .dataframe tbody tr th {\n",
       "        vertical-align: top;\n",
       "    }\n",
       "\n",
       "    .dataframe thead th {\n",
       "        text-align: right;\n",
       "    }\n",
       "</style>\n",
       "<table border=\"1\" class=\"dataframe\">\n",
       "  <thead>\n",
       "    <tr style=\"text-align: right;\">\n",
       "      <th></th>\n",
       "      <th>CONTENT</th>\n",
       "      <th>punct_text</th>\n",
       "      <th>token_text</th>\n",
       "    </tr>\n",
       "  </thead>\n",
       "  <tbody>\n",
       "    <tr>\n",
       "      <th>0</th>\n",
       "      <td>Nice song﻿</td>\n",
       "      <td>Nice song</td>\n",
       "      <td>[nice, song]</td>\n",
       "    </tr>\n",
       "    <tr>\n",
       "      <th>1</th>\n",
       "      <td>I love song ﻿</td>\n",
       "      <td>I love song</td>\n",
       "      <td>[i, love, song]</td>\n",
       "    </tr>\n",
       "    <tr>\n",
       "      <th>2</th>\n",
       "      <td>I love song ﻿</td>\n",
       "      <td>I love song</td>\n",
       "      <td>[i, love, song]</td>\n",
       "    </tr>\n",
       "    <tr>\n",
       "      <th>3</th>\n",
       "      <td>860,000,000 lets make it first female to reach...</td>\n",
       "      <td>860000000 lets make it first female to reach o...</td>\n",
       "      <td>[860000000, lets, make, it, first, female, to,...</td>\n",
       "    </tr>\n",
       "    <tr>\n",
       "      <th>4</th>\n",
       "      <td>shakira is best for worldcup﻿</td>\n",
       "      <td>shakira is best for worldcup</td>\n",
       "      <td>[shakira, is, best, for, worldcup]</td>\n",
       "    </tr>\n",
       "    <tr>\n",
       "      <th>5</th>\n",
       "      <td>The best world cup song ever!!!!﻿</td>\n",
       "      <td>The best world cup song ever</td>\n",
       "      <td>[the, best, world, cup, song, ever]</td>\n",
       "    </tr>\n",
       "    <tr>\n",
       "      <th>6</th>\n",
       "      <td>I love﻿</td>\n",
       "      <td>I love</td>\n",
       "      <td>[i, love]</td>\n",
       "    </tr>\n",
       "    <tr>\n",
       "      <th>7</th>\n",
       "      <td>SEE SOME MORE SONG OPEN GOOGLE AND TYPE Shakir...</td>\n",
       "      <td>SEE SOME MORE SONG OPEN GOOGLE AND TYPE Shakir...</td>\n",
       "      <td>[see, some, more, song, open, google, and, typ...</td>\n",
       "    </tr>\n",
       "    <tr>\n",
       "      <th>8</th>\n",
       "      <td>Awesome ﻿</td>\n",
       "      <td>Awesome</td>\n",
       "      <td>[awesome]</td>\n",
       "    </tr>\n",
       "    <tr>\n",
       "      <th>9</th>\n",
       "      <td>I like shakira..﻿</td>\n",
       "      <td>I like shakira</td>\n",
       "      <td>[i, like, shakira]</td>\n",
       "    </tr>\n",
       "  </tbody>\n",
       "</table>\n",
       "</div>"
      ],
      "text/plain": [
       "                                             CONTENT  \\\n",
       "0                                         Nice song﻿   \n",
       "1                                      I love song ﻿   \n",
       "2                                      I love song ﻿   \n",
       "3  860,000,000 lets make it first female to reach...   \n",
       "4                      shakira is best for worldcup﻿   \n",
       "5                  The best world cup song ever!!!!﻿   \n",
       "6                                            I love﻿   \n",
       "7  SEE SOME MORE SONG OPEN GOOGLE AND TYPE Shakir...   \n",
       "8                                          Awesome ﻿   \n",
       "9                                  I like shakira..﻿   \n",
       "\n",
       "                                          punct_text  \\\n",
       "0                                          Nice song   \n",
       "1                                       I love song    \n",
       "2                                       I love song    \n",
       "3  860000000 lets make it first female to reach o...   \n",
       "4                       shakira is best for worldcup   \n",
       "5                       The best world cup song ever   \n",
       "6                                             I love   \n",
       "7  SEE SOME MORE SONG OPEN GOOGLE AND TYPE Shakir...   \n",
       "8                                           Awesome    \n",
       "9                                     I like shakira   \n",
       "\n",
       "                                          token_text  \n",
       "0                                       [nice, song]  \n",
       "1                                    [i, love, song]  \n",
       "2                                    [i, love, song]  \n",
       "3  [860000000, lets, make, it, first, female, to,...  \n",
       "4                 [shakira, is, best, for, worldcup]  \n",
       "5                [the, best, world, cup, song, ever]  \n",
       "6                                          [i, love]  \n",
       "7  [see, some, more, song, open, google, and, typ...  \n",
       "8                                          [awesome]  \n",
       "9                                 [i, like, shakira]  "
      ]
     },
     "execution_count": 18,
     "metadata": {},
     "output_type": "execute_result"
    }
   ],
   "source": [
    "dataset.head(10)"
   ]
  },
  {
   "cell_type": "markdown",
   "id": "30396914-b67e-48da-a37c-aeb6f5adc9b0",
   "metadata": {},
   "source": [
    "---"
   ]
  },
  {
   "cell_type": "markdown",
   "id": "e5000f46-d87b-4408-a96f-08f9096b8439",
   "metadata": {},
   "source": [
    "## 4. Remove Stopwords"
   ]
  },
  {
   "cell_type": "markdown",
   "id": "e85a3006-86be-4c83-9594-a6bc8a52ec49",
   "metadata": {},
   "source": [
    "### 4a."
   ]
  },
  {
   "cell_type": "code",
   "execution_count": 19,
   "id": "70f1b5f3-e87c-41a1-8149-759992308137",
   "metadata": {},
   "outputs": [],
   "source": [
    "from nltk.corpus import stopwords"
   ]
  },
  {
   "cell_type": "code",
   "execution_count": 20,
   "id": "37021fdc-ec0e-4379-bdce-6550cc30b3cc",
   "metadata": {},
   "outputs": [],
   "source": [
    "def remove_stopwords(list_of_tokens):\n",
    "    filtered_words = [word for word in list_of_tokens if word not in stopwords.words('english')]\n",
    "    return filtered_words"
   ]
  },
  {
   "cell_type": "code",
   "execution_count": 21,
   "id": "1d97eb99-18fa-4d91-b2dd-286c0daf1e89",
   "metadata": {},
   "outputs": [],
   "source": [
    "nostop_text = pd.Series(dataset['token_text'].map(lambda x:remove_stopwords(x)), name=\"nostop_text\")"
   ]
  },
  {
   "cell_type": "code",
   "execution_count": 22,
   "id": "0c488ad5-0b2c-4f6b-8547-73e4e9687799",
   "metadata": {},
   "outputs": [],
   "source": [
    "dataset = pd.concat([dataset, nostop_text], axis=1)"
   ]
  },
  {
   "cell_type": "markdown",
   "id": "48923b25-1bf6-4ea7-93ab-ab46271b5cbe",
   "metadata": {},
   "source": [
    "### 4b."
   ]
  },
  {
   "cell_type": "code",
   "execution_count": 23,
   "id": "5ea1fd78-3ca7-4107-aad2-1e0654fae0d9",
   "metadata": {},
   "outputs": [
    {
     "data": {
      "text/html": [
       "<div>\n",
       "<style scoped>\n",
       "    .dataframe tbody tr th:only-of-type {\n",
       "        vertical-align: middle;\n",
       "    }\n",
       "\n",
       "    .dataframe tbody tr th {\n",
       "        vertical-align: top;\n",
       "    }\n",
       "\n",
       "    .dataframe thead th {\n",
       "        text-align: right;\n",
       "    }\n",
       "</style>\n",
       "<table border=\"1\" class=\"dataframe\">\n",
       "  <thead>\n",
       "    <tr style=\"text-align: right;\">\n",
       "      <th></th>\n",
       "      <th>CONTENT</th>\n",
       "      <th>punct_text</th>\n",
       "      <th>token_text</th>\n",
       "      <th>nostop_text</th>\n",
       "    </tr>\n",
       "  </thead>\n",
       "  <tbody>\n",
       "    <tr>\n",
       "      <th>0</th>\n",
       "      <td>Nice song﻿</td>\n",
       "      <td>Nice song</td>\n",
       "      <td>[nice, song]</td>\n",
       "      <td>[nice, song]</td>\n",
       "    </tr>\n",
       "    <tr>\n",
       "      <th>1</th>\n",
       "      <td>I love song ﻿</td>\n",
       "      <td>I love song</td>\n",
       "      <td>[i, love, song]</td>\n",
       "      <td>[love, song]</td>\n",
       "    </tr>\n",
       "    <tr>\n",
       "      <th>2</th>\n",
       "      <td>I love song ﻿</td>\n",
       "      <td>I love song</td>\n",
       "      <td>[i, love, song]</td>\n",
       "      <td>[love, song]</td>\n",
       "    </tr>\n",
       "    <tr>\n",
       "      <th>3</th>\n",
       "      <td>860,000,000 lets make it first female to reach...</td>\n",
       "      <td>860000000 lets make it first female to reach o...</td>\n",
       "      <td>[860000000, lets, make, it, first, female, to,...</td>\n",
       "      <td>[860000000, lets, make, first, female, reach, ...</td>\n",
       "    </tr>\n",
       "    <tr>\n",
       "      <th>4</th>\n",
       "      <td>shakira is best for worldcup﻿</td>\n",
       "      <td>shakira is best for worldcup</td>\n",
       "      <td>[shakira, is, best, for, worldcup]</td>\n",
       "      <td>[shakira, best, worldcup]</td>\n",
       "    </tr>\n",
       "  </tbody>\n",
       "</table>\n",
       "</div>"
      ],
      "text/plain": [
       "                                             CONTENT  \\\n",
       "0                                         Nice song﻿   \n",
       "1                                      I love song ﻿   \n",
       "2                                      I love song ﻿   \n",
       "3  860,000,000 lets make it first female to reach...   \n",
       "4                      shakira is best for worldcup﻿   \n",
       "\n",
       "                                          punct_text  \\\n",
       "0                                          Nice song   \n",
       "1                                       I love song    \n",
       "2                                       I love song    \n",
       "3  860000000 lets make it first female to reach o...   \n",
       "4                       shakira is best for worldcup   \n",
       "\n",
       "                                          token_text  \\\n",
       "0                                       [nice, song]   \n",
       "1                                    [i, love, song]   \n",
       "2                                    [i, love, song]   \n",
       "3  [860000000, lets, make, it, first, female, to,...   \n",
       "4                 [shakira, is, best, for, worldcup]   \n",
       "\n",
       "                                         nostop_text  \n",
       "0                                       [nice, song]  \n",
       "1                                       [love, song]  \n",
       "2                                       [love, song]  \n",
       "3  [860000000, lets, make, first, female, reach, ...  \n",
       "4                          [shakira, best, worldcup]  "
      ]
     },
     "execution_count": 23,
     "metadata": {},
     "output_type": "execute_result"
    }
   ],
   "source": [
    "dataset.head()"
   ]
  },
  {
   "cell_type": "markdown",
   "id": "80631d5b-9c12-4329-86b4-6745602a5657",
   "metadata": {},
   "source": [
    "---"
   ]
  },
  {
   "cell_type": "markdown",
   "id": "1f9adbc3-c0ab-4379-81a5-e5f11435693d",
   "metadata": {},
   "source": [
    "## 5. Stem"
   ]
  },
  {
   "cell_type": "markdown",
   "id": "8b0f4f9e-a01b-4bd4-a873-7bc175c9d3a5",
   "metadata": {},
   "source": [
    "### 5a."
   ]
  },
  {
   "cell_type": "code",
   "execution_count": 26,
   "id": "664eb788-5e22-4ac4-b43e-6e212177a7d7",
   "metadata": {},
   "outputs": [],
   "source": [
    "from nltk.stem.porter import PorterStemmer\n",
    "stemmer = PorterStemmer()"
   ]
  },
  {
   "cell_type": "code",
   "execution_count": 29,
   "id": "e378921b-235b-4260-8e10-96f1f0de01d0",
   "metadata": {},
   "outputs": [],
   "source": [
    "def porter_stemmer(plurals, stemmer):\n",
    "    singles = [stemmer.stem(plural) for plural in plurals]\n",
    "    return singles"
   ]
  },
  {
   "cell_type": "code",
   "execution_count": 30,
   "id": "6827dfd3-f39c-449a-953f-5c5517ba055b",
   "metadata": {},
   "outputs": [],
   "source": [
    "stemmed_text = pd.Series(dataset['nostop_text'].map(lambda x:porter_stemmer(x, stemmer)), name=\"stemmed_text\")"
   ]
  },
  {
   "cell_type": "code",
   "execution_count": 31,
   "id": "686086fd-4848-418b-b773-92488ad8733a",
   "metadata": {},
   "outputs": [],
   "source": [
    "dataset = pd.concat([dataset, stemmed_text], axis=1)"
   ]
  },
  {
   "cell_type": "code",
   "execution_count": 34,
   "id": "9b972774-3770-4724-82b4-cd5f35958981",
   "metadata": {},
   "outputs": [
    {
     "data": {
      "text/html": [
       "<div>\n",
       "<style scoped>\n",
       "    .dataframe tbody tr th:only-of-type {\n",
       "        vertical-align: middle;\n",
       "    }\n",
       "\n",
       "    .dataframe tbody tr th {\n",
       "        vertical-align: top;\n",
       "    }\n",
       "\n",
       "    .dataframe thead th {\n",
       "        text-align: right;\n",
       "    }\n",
       "</style>\n",
       "<table border=\"1\" class=\"dataframe\">\n",
       "  <thead>\n",
       "    <tr style=\"text-align: right;\">\n",
       "      <th></th>\n",
       "      <th>CONTENT</th>\n",
       "      <th>punct_text</th>\n",
       "      <th>token_text</th>\n",
       "      <th>nostop_text</th>\n",
       "      <th>stemmed_text</th>\n",
       "    </tr>\n",
       "  </thead>\n",
       "  <tbody>\n",
       "    <tr>\n",
       "      <th>0</th>\n",
       "      <td>Nice song﻿</td>\n",
       "      <td>Nice song</td>\n",
       "      <td>[nice, song]</td>\n",
       "      <td>[nice, song]</td>\n",
       "      <td>[nice, song]</td>\n",
       "    </tr>\n",
       "    <tr>\n",
       "      <th>1</th>\n",
       "      <td>I love song ﻿</td>\n",
       "      <td>I love song</td>\n",
       "      <td>[i, love, song]</td>\n",
       "      <td>[love, song]</td>\n",
       "      <td>[love, song]</td>\n",
       "    </tr>\n",
       "    <tr>\n",
       "      <th>2</th>\n",
       "      <td>I love song ﻿</td>\n",
       "      <td>I love song</td>\n",
       "      <td>[i, love, song]</td>\n",
       "      <td>[love, song]</td>\n",
       "      <td>[love, song]</td>\n",
       "    </tr>\n",
       "    <tr>\n",
       "      <th>3</th>\n",
       "      <td>860,000,000 lets make it first female to reach...</td>\n",
       "      <td>860000000 lets make it first female to reach o...</td>\n",
       "      <td>[860000000, lets, make, it, first, female, to,...</td>\n",
       "      <td>[860000000, lets, make, first, female, reach, ...</td>\n",
       "      <td>[860000000, let, make, first, femal, reach, on...</td>\n",
       "    </tr>\n",
       "    <tr>\n",
       "      <th>4</th>\n",
       "      <td>shakira is best for worldcup﻿</td>\n",
       "      <td>shakira is best for worldcup</td>\n",
       "      <td>[shakira, is, best, for, worldcup]</td>\n",
       "      <td>[shakira, best, worldcup]</td>\n",
       "      <td>[shakira, best, worldcup]</td>\n",
       "    </tr>\n",
       "  </tbody>\n",
       "</table>\n",
       "</div>"
      ],
      "text/plain": [
       "                                             CONTENT  \\\n",
       "0                                         Nice song﻿   \n",
       "1                                      I love song ﻿   \n",
       "2                                      I love song ﻿   \n",
       "3  860,000,000 lets make it first female to reach...   \n",
       "4                      shakira is best for worldcup﻿   \n",
       "\n",
       "                                          punct_text  \\\n",
       "0                                          Nice song   \n",
       "1                                       I love song    \n",
       "2                                       I love song    \n",
       "3  860000000 lets make it first female to reach o...   \n",
       "4                       shakira is best for worldcup   \n",
       "\n",
       "                                          token_text  \\\n",
       "0                                       [nice, song]   \n",
       "1                                    [i, love, song]   \n",
       "2                                    [i, love, song]   \n",
       "3  [860000000, lets, make, it, first, female, to,...   \n",
       "4                 [shakira, is, best, for, worldcup]   \n",
       "\n",
       "                                         nostop_text  \\\n",
       "0                                       [nice, song]   \n",
       "1                                       [love, song]   \n",
       "2                                       [love, song]   \n",
       "3  [860000000, lets, make, first, female, reach, ...   \n",
       "4                          [shakira, best, worldcup]   \n",
       "\n",
       "                                        stemmed_text  \n",
       "0                                       [nice, song]  \n",
       "1                                       [love, song]  \n",
       "2                                       [love, song]  \n",
       "3  [860000000, let, make, first, femal, reach, on...  \n",
       "4                          [shakira, best, worldcup]  "
      ]
     },
     "execution_count": 34,
     "metadata": {},
     "output_type": "execute_result"
    }
   ],
   "source": [
    "dataset.head()"
   ]
  },
  {
   "cell_type": "code",
   "execution_count": 36,
   "id": "ffc7a70a-c7a4-490b-9242-11ca59dff813",
   "metadata": {},
   "outputs": [
    {
     "data": {
      "text/html": [
       "<div>\n",
       "<style scoped>\n",
       "    .dataframe tbody tr th:only-of-type {\n",
       "        vertical-align: middle;\n",
       "    }\n",
       "\n",
       "    .dataframe tbody tr th {\n",
       "        vertical-align: top;\n",
       "    }\n",
       "\n",
       "    .dataframe thead th {\n",
       "        text-align: right;\n",
       "    }\n",
       "</style>\n",
       "<table border=\"1\" class=\"dataframe\">\n",
       "  <thead>\n",
       "    <tr style=\"text-align: right;\">\n",
       "      <th></th>\n",
       "      <th>nostop_text</th>\n",
       "      <th>stemmed_text</th>\n",
       "    </tr>\n",
       "  </thead>\n",
       "  <tbody>\n",
       "    <tr>\n",
       "      <th>0</th>\n",
       "      <td>[nice, song]</td>\n",
       "      <td>[nice, song]</td>\n",
       "    </tr>\n",
       "    <tr>\n",
       "      <th>1</th>\n",
       "      <td>[love, song]</td>\n",
       "      <td>[love, song]</td>\n",
       "    </tr>\n",
       "    <tr>\n",
       "      <th>2</th>\n",
       "      <td>[love, song]</td>\n",
       "      <td>[love, song]</td>\n",
       "    </tr>\n",
       "    <tr>\n",
       "      <th>3</th>\n",
       "      <td>[860000000, lets, make, first, female, reach, ...</td>\n",
       "      <td>[860000000, let, make, first, femal, reach, on...</td>\n",
       "    </tr>\n",
       "    <tr>\n",
       "      <th>4</th>\n",
       "      <td>[shakira, best, worldcup]</td>\n",
       "      <td>[shakira, best, worldcup]</td>\n",
       "    </tr>\n",
       "  </tbody>\n",
       "</table>\n",
       "</div>"
      ],
      "text/plain": [
       "                                         nostop_text  \\\n",
       "0                                       [nice, song]   \n",
       "1                                       [love, song]   \n",
       "2                                       [love, song]   \n",
       "3  [860000000, lets, make, first, female, reach, ...   \n",
       "4                          [shakira, best, worldcup]   \n",
       "\n",
       "                                        stemmed_text  \n",
       "0                                       [nice, song]  \n",
       "1                                       [love, song]  \n",
       "2                                       [love, song]  \n",
       "3  [860000000, let, make, first, femal, reach, on...  \n",
       "4                          [shakira, best, worldcup]  "
      ]
     },
     "execution_count": 36,
     "metadata": {},
     "output_type": "execute_result"
    }
   ],
   "source": [
    "dataset[['nostop_text', 'stemmed_text']].head()"
   ]
  },
  {
   "cell_type": "markdown",
   "id": "ee5f4d67-e04f-4975-b780-6916d8c3cfde",
   "metadata": {},
   "source": [
    "## 6. Lemmatize"
   ]
  },
  {
   "cell_type": "markdown",
   "id": "c2b00fd8-1f20-4c9f-ab17-e3135ffad522",
   "metadata": {},
   "source": [
    "### 6a."
   ]
  },
  {
   "cell_type": "code",
   "execution_count": 45,
   "id": "25520f60-20b9-4335-82fd-3949895d332a",
   "metadata": {},
   "outputs": [],
   "source": [
    "from nltk.stem import WordNetLemmatizer\n",
    "wnl = WordNetLemmatizer()"
   ]
  },
  {
   "cell_type": "code",
   "execution_count": null,
   "id": "06c0b2b3-7429-4fff-8f9d-93004f29f2b7",
   "metadata": {},
   "outputs": [],
   "source": [
    "nltk.download('wordnet')"
   ]
  },
  {
   "cell_type": "markdown",
   "id": "a1eb3c68-425f-468e-b90f-ec16dcfd13b2",
   "metadata": {},
   "source": [
    "### 6b."
   ]
  },
  {
   "cell_type": "code",
   "execution_count": 41,
   "id": "b45728de-1a7c-4588-b886-4e05b4bfa803",
   "metadata": {},
   "outputs": [],
   "source": [
    "def lemmatizer(word_list, wnl):\n",
    "    lemmatized_words = [wnl.lemmatize(w) for w in word_list]\n",
    "    return lemmatized_words"
   ]
  },
  {
   "cell_type": "code",
   "execution_count": 42,
   "id": "4522a164-0ffa-4897-afc7-1029b48f507d",
   "metadata": {},
   "outputs": [],
   "source": [
    "lemmatized_text = pd.Series(dataset['nostop_text'].map(lambda x:lemmatizer(x, wnl)), name=\"lemmatized_text\")"
   ]
  },
  {
   "cell_type": "code",
   "execution_count": 43,
   "id": "e08bd9d5-a979-4675-9cde-c42d81b97d43",
   "metadata": {},
   "outputs": [],
   "source": [
    "dataset = pd.concat([dataset, lemmatized_text], axis=1)"
   ]
  },
  {
   "cell_type": "markdown",
   "id": "9c8e333a-a25f-456c-be69-51c033d639d6",
   "metadata": {},
   "source": [
    "### 6c."
   ]
  },
  {
   "cell_type": "code",
   "execution_count": 44,
   "id": "9a2b0d06-0f22-4b70-b02f-aa7322fef30a",
   "metadata": {},
   "outputs": [
    {
     "data": {
      "text/html": [
       "<div>\n",
       "<style scoped>\n",
       "    .dataframe tbody tr th:only-of-type {\n",
       "        vertical-align: middle;\n",
       "    }\n",
       "\n",
       "    .dataframe tbody tr th {\n",
       "        vertical-align: top;\n",
       "    }\n",
       "\n",
       "    .dataframe thead th {\n",
       "        text-align: right;\n",
       "    }\n",
       "</style>\n",
       "<table border=\"1\" class=\"dataframe\">\n",
       "  <thead>\n",
       "    <tr style=\"text-align: right;\">\n",
       "      <th></th>\n",
       "      <th>CONTENT</th>\n",
       "      <th>punct_text</th>\n",
       "      <th>token_text</th>\n",
       "      <th>nostop_text</th>\n",
       "      <th>stemmed_text</th>\n",
       "      <th>lemmatized_text</th>\n",
       "    </tr>\n",
       "  </thead>\n",
       "  <tbody>\n",
       "    <tr>\n",
       "      <th>0</th>\n",
       "      <td>Nice song﻿</td>\n",
       "      <td>Nice song</td>\n",
       "      <td>[nice, song]</td>\n",
       "      <td>[nice, song]</td>\n",
       "      <td>[nice, song]</td>\n",
       "      <td>[nice, song]</td>\n",
       "    </tr>\n",
       "    <tr>\n",
       "      <th>1</th>\n",
       "      <td>I love song ﻿</td>\n",
       "      <td>I love song</td>\n",
       "      <td>[i, love, song]</td>\n",
       "      <td>[love, song]</td>\n",
       "      <td>[love, song]</td>\n",
       "      <td>[love, song]</td>\n",
       "    </tr>\n",
       "    <tr>\n",
       "      <th>2</th>\n",
       "      <td>I love song ﻿</td>\n",
       "      <td>I love song</td>\n",
       "      <td>[i, love, song]</td>\n",
       "      <td>[love, song]</td>\n",
       "      <td>[love, song]</td>\n",
       "      <td>[love, song]</td>\n",
       "    </tr>\n",
       "    <tr>\n",
       "      <th>3</th>\n",
       "      <td>860,000,000 lets make it first female to reach...</td>\n",
       "      <td>860000000 lets make it first female to reach o...</td>\n",
       "      <td>[860000000, lets, make, it, first, female, to,...</td>\n",
       "      <td>[860000000, lets, make, first, female, reach, ...</td>\n",
       "      <td>[860000000, let, make, first, femal, reach, on...</td>\n",
       "      <td>[860000000, let, make, first, female, reach, o...</td>\n",
       "    </tr>\n",
       "    <tr>\n",
       "      <th>4</th>\n",
       "      <td>shakira is best for worldcup﻿</td>\n",
       "      <td>shakira is best for worldcup</td>\n",
       "      <td>[shakira, is, best, for, worldcup]</td>\n",
       "      <td>[shakira, best, worldcup]</td>\n",
       "      <td>[shakira, best, worldcup]</td>\n",
       "      <td>[shakira, best, worldcup]</td>\n",
       "    </tr>\n",
       "  </tbody>\n",
       "</table>\n",
       "</div>"
      ],
      "text/plain": [
       "                                             CONTENT  \\\n",
       "0                                         Nice song﻿   \n",
       "1                                      I love song ﻿   \n",
       "2                                      I love song ﻿   \n",
       "3  860,000,000 lets make it first female to reach...   \n",
       "4                      shakira is best for worldcup﻿   \n",
       "\n",
       "                                          punct_text  \\\n",
       "0                                          Nice song   \n",
       "1                                       I love song    \n",
       "2                                       I love song    \n",
       "3  860000000 lets make it first female to reach o...   \n",
       "4                       shakira is best for worldcup   \n",
       "\n",
       "                                          token_text  \\\n",
       "0                                       [nice, song]   \n",
       "1                                    [i, love, song]   \n",
       "2                                    [i, love, song]   \n",
       "3  [860000000, lets, make, it, first, female, to,...   \n",
       "4                 [shakira, is, best, for, worldcup]   \n",
       "\n",
       "                                         nostop_text  \\\n",
       "0                                       [nice, song]   \n",
       "1                                       [love, song]   \n",
       "2                                       [love, song]   \n",
       "3  [860000000, lets, make, first, female, reach, ...   \n",
       "4                          [shakira, best, worldcup]   \n",
       "\n",
       "                                        stemmed_text  \\\n",
       "0                                       [nice, song]   \n",
       "1                                       [love, song]   \n",
       "2                                       [love, song]   \n",
       "3  [860000000, let, make, first, femal, reach, on...   \n",
       "4                          [shakira, best, worldcup]   \n",
       "\n",
       "                                     lemmatized_text  \n",
       "0                                       [nice, song]  \n",
       "1                                       [love, song]  \n",
       "2                                       [love, song]  \n",
       "3  [860000000, let, make, first, female, reach, o...  \n",
       "4                          [shakira, best, worldcup]  "
      ]
     },
     "execution_count": 44,
     "metadata": {},
     "output_type": "execute_result"
    }
   ],
   "source": [
    "dataset.head()"
   ]
  },
  {
   "cell_type": "markdown",
   "id": "1a355d39-5670-49d7-8568-f5cdbaa44129",
   "metadata": {},
   "source": [
    "---"
   ]
  },
  {
   "cell_type": "markdown",
   "id": "7f7bd66a-7eaa-4d79-8ac6-b5ffced3594e",
   "metadata": {},
   "source": [
    "## 7. Vectorizing"
   ]
  },
  {
   "cell_type": "markdown",
   "id": "82d398d2-745a-4906-a7e6-0d1d7692c73b",
   "metadata": {},
   "source": [
    "### 7a."
   ]
  },
  {
   "cell_type": "code",
   "execution_count": 46,
   "id": "5e6f0dfe-6d04-41dc-b70f-61387810eaaa",
   "metadata": {},
   "outputs": [],
   "source": [
    "from sklearn.feature_extraction.text import CountVectorizer"
   ]
  },
  {
   "cell_type": "code",
   "execution_count": null,
   "id": "0e6bcb15-641e-4ec7-a2c1-44ce4cbf85f9",
   "metadata": {},
   "outputs": [],
   "source": []
  }
 ],
 "metadata": {
  "kernelspec": {
   "display_name": "Python 3",
   "language": "python",
   "name": "python3"
  },
  "language_info": {
   "codemirror_mode": {
    "name": "ipython",
    "version": 3
   },
   "file_extension": ".py",
   "mimetype": "text/x-python",
   "name": "python",
   "nbconvert_exporter": "python",
   "pygments_lexer": "ipython3",
   "version": "3.9.13"
  }
 },
 "nbformat": 4,
 "nbformat_minor": 5
}
